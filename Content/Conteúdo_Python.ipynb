{
  "nbformat": 4,
  "nbformat_minor": 0,
  "metadata": {
    "colab": {
      "provenance": [],
      "toc_visible": true,
      "authorship_tag": "ABX9TyM7Rw69y2UdVOKHnG/vdIHW",
      "include_colab_link": true
    },
    "kernelspec": {
      "name": "python3",
      "display_name": "Python 3"
    },
    "language_info": {
      "name": "python"
    }
  },
  "cells": [
    {
      "cell_type": "markdown",
      "metadata": {
        "id": "view-in-github",
        "colab_type": "text"
      },
      "source": [
        "<a href=\"https://colab.research.google.com/github/Jhopn/Content_of_the_python/blob/main/Content/Conte%C3%BAdo_Python.ipynb\" target=\"_parent\"><img src=\"https://colab.research.google.com/assets/colab-badge.svg\" alt=\"Open In Colab\"/></a>"
      ]
    },
    {
      "cell_type": "markdown",
      "source": [
        "#INTRODUÇÃO AO PYTHON"
      ],
      "metadata": {
        "id": "yQBGUw3vkuKb"
      }
    },
    {
      "cell_type": "code",
      "source": [
        "#comentário\n",
        "print(\"Olá Mundo!\")\n",
        "print(\"\")\n",
        "'''   \n",
        "Comentários de mais de uma linha    \n",
        "'''"
      ],
      "metadata": {
        "id": "wr02lLxNmfer"
      },
      "execution_count": null,
      "outputs": []
    },
    {
      "cell_type": "markdown",
      "source": [
        "## Variaveis"
      ],
      "metadata": {
        "id": "ZeGXpBrJnY2X"
      }
    },
    {
      "cell_type": "code",
      "source": [
        "# Tipos de variaveis"
      ],
      "metadata": {
        "id": "ICaXZYzU2BHR"
      },
      "execution_count": null,
      "outputs": []
    },
    {
      "cell_type": "markdown",
      "source": [
        "# SEP e END"
      ],
      "metadata": {
        "id": "Y63SXQo_Na7s"
      }
    },
    {
      "cell_type": "code",
      "source": [
        "# Sem aspas significa que não é texto\n",
        "numero1 = 5\n",
        "numero2 = 3\n",
        "numero3 = 9\n",
        "print(numero1,numero2,numero3, sep = \"-\")"
      ],
      "metadata": {
        "id": "WHc1UiTNv5t4"
      },
      "execution_count": null,
      "outputs": []
    },
    {
      "cell_type": "code",
      "source": [
        "# Variáveis tipo string(Cadeia e caracter) \n",
        "# Python não faz distinção de ' e de \"\"\n",
        "a = \"Pedro\"\n",
        "b = 'Jhoão'\n",
        "c = '''Santos'''\n",
        "print(b,a,c)\n",
        "# A virgula funciona como espaço\n",
        "print(b,a,c, sep='-')\n",
        "# SEP funciona como um separador, que utiliza o caracter entre as '' ou \"\"\n",
        "print(b,a,c, end=' - É o nome do aluno')\n",
        "# END escreve ao final do print o texto entre as '' ou \"\"\n",
        "print(\"\\n\",b,\"\\n\",a,\"\\n\",c)\n",
        "# \\n quebra a linha (inclusive dentro do SEP e END)"
      ],
      "metadata": {
        "id": "mrsqCacdnawv"
      },
      "execution_count": null,
      "outputs": []
    },
    {
      "cell_type": "markdown",
      "source": [
        "# Escrita da String"
      ],
      "metadata": {
        "id": "CFzWF3w5Njeu"
      }
    },
    {
      "cell_type": "code",
      "source": [
        "# Formas de utilizar a string\n",
        "print(\"\\nO %s tirou %s\" %  (b,\"5\"))\n",
        "#  O %s é substituido por variaveis dentro do parênteses \n",
        "print(\"\\nO {} tirou {}\" .format(b,\"5\"))\n",
        "#  O {} é subistituido por variaveis dentro do parênteses\n",
        "\n",
        "'''Formatação'''\n",
        "# %s text2o\n",
        "# %d inteiro\n",
        "# %f real"
      ],
      "metadata": {
        "id": "281B-fuN_o0G"
      },
      "execution_count": null,
      "outputs": []
    },
    {
      "cell_type": "markdown",
      "source": [
        "## Separação da String"
      ],
      "metadata": {
        "id": "I-NdYXpcN2p2"
      }
    },
    {
      "cell_type": "markdown",
      "source": [],
      "metadata": {
        "id": "QyLXs0Qs8Jms"
      }
    },
    {
      "cell_type": "markdown",
      "source": [
        "# Nova seção"
      ],
      "metadata": {
        "id": "--85t2Ml8J1k"
      }
    },
    {
      "cell_type": "code",
      "source": [
        "#Separaçãeo de String\n",
        "nome = \"Santos\"\n",
        "print(len(nome))\n",
        "# LEN diz a quantidade de indices na variável\n",
        "print(nome)\n",
        "print(nome[0])\n",
        "print(nome[1])\n",
        "print(nome[2])\n",
        "print(nome[3])\n",
        "print(nome[4])\n",
        "print(nome[5])"
      ],
      "metadata": {
        "id": "qcNrBlUhzzI_"
      },
      "execution_count": null,
      "outputs": []
    },
    {
      "cell_type": "code",
      "source": [
        "# OBS: Utilização para contagem de caracter e potenciação de x valor\n",
        "nome = \"José\"\n",
        "valor = 3\n",
        "rs = (valor)**(len(nome))\n",
        "print(rs)"
      ],
      "metadata": {
        "id": "lZbGBOI52lCk"
      },
      "execution_count": null,
      "outputs": []
    },
    {
      "cell_type": "code",
      "source": [
        "#Variáveis Booleanas\n",
        "a = 1\n",
        "b = 2\n",
        "c = 3\n",
        "print(a == b)\n",
        "print(a != b)\n",
        "print(a+b == c)\n",
        "print(a*b == a*c)"
      ],
      "metadata": {
        "id": "WdF9HvTp3k0d"
      },
      "execution_count": null,
      "outputs": []
    },
    {
      "cell_type": "markdown",
      "source": [
        "# Slicing"
      ],
      "metadata": {
        "id": "ShfJXmuHBm2k"
      }
    },
    {
      "cell_type": "code",
      "source": [
        "#Pedaços do nome de uma String\n",
        "nome = \"Liquidificador\"\n",
        "print(nome[3:]) # Os valores do lado direito não são executados\n",
        "print(nome[:3]) # Os valores do lado esquerdo não são executados\n",
        "print(nome[:-3]) # Escreve os três primeiros valores da string\n",
        "print(nome[-3:]) # Escreve os três ultimos valores da string\n",
        "print(nome[:3] + nome[3:])\n",
        "\n",
        "# Slicing é chamado esse processo\n",
        "# print(texto[posiçao:intervalo:ordem])"
      ],
      "metadata": {
        "id": "OJAVZ6GS03f7"
      },
      "execution_count": null,
      "outputs": []
    },
    {
      "cell_type": "markdown",
      "source": [
        "# Operadores matematicos"
      ],
      "metadata": {
        "id": "bM9AEnRpB-n4"
      }
    },
    {
      "cell_type": "code",
      "source": [
        "# São operadores: \n",
        "'''\n",
        "  - subtração \n",
        "  + soma ou concatenação\n",
        "  * mutiplicação \n",
        "  / divisão\n",
        "  // divisão inteira\n",
        "  % resto da divisão\n",
        "  ** potenciação \n",
        "\n",
        "'''"
      ],
      "metadata": {
        "id": "tXKcxZy8CGIu"
      },
      "execution_count": null,
      "outputs": []
    },
    {
      "cell_type": "code",
      "source": [
        "# Exemplo de utilização \n",
        "# Raiz quadrada de 81\n",
        "print( 81 ** (1/2))"
      ],
      "metadata": {
        "id": "zKcfPA0ZFAva"
      },
      "execution_count": null,
      "outputs": []
    },
    {
      "cell_type": "markdown",
      "source": [
        "# Identação e IF, ELIF e ELSE"
      ],
      "metadata": {
        "id": "DAk7ZxDdFf_D"
      }
    },
    {
      "cell_type": "code",
      "source": [
        "# Identação é o ato de manter em linha o espaçamento, pois em python não não tem a utilização dos {}\n",
        "sn = \"ifma22\"\n",
        "confere = input(\"Digite sua senha: \")\n",
        "if sn == confere:\n",
        "  print(\"Sua senha está correta!\")\n",
        "elif confere == \"225\":\n",
        "  print(\"Senha de administração! Agora voçê é root\")\n",
        "else:\n",
        "  print(\"Senha incorreta!\")\n",
        "\n",
        "######################\n",
        "#                    #\n",
        "#''' if = se         #\n",
        "#    elif = senao se #\n",
        "#    else = senao    # \n",
        "#'''                 #\n",
        "######################"
      ],
      "metadata": {
        "id": "tXlSxc8KFmAs"
      },
      "execution_count": null,
      "outputs": []
    },
    {
      "cell_type": "code",
      "source": [
        "# Exemplo de utilização de if com true\n",
        "\n",
        "if False: \n",
        "  print(\"Agora voçê tem acesso ao WIFI\")\n",
        "else:\n",
        "  print(\"Senha incorreta! Tente Novamente!\")"
      ],
      "metadata": {
        "id": "zVSGOx4Hm0Fe"
      },
      "execution_count": null,
      "outputs": []
    },
    {
      "cell_type": "markdown",
      "source": [
        "# Entrada de comandos"
      ],
      "metadata": {
        "id": "9wfavYaTjBqP"
      }
    },
    {
      "cell_type": "code",
      "source": [
        "# Exemplo de entrada de dados\n",
        "matri = input(\"Digite sua matricula: \")\n",
        "senh = input(\"Digite sua senha:\" )\n",
        "print(f\"Sua matricula\", matri, \"\\nSeu nome:\", senh)"
      ],
      "metadata": {
        "colab": {
          "base_uri": "https://localhost:8080/"
        },
        "id": "Y_oMlJe_kAUd",
        "outputId": "5e284c25-f916-4794-d020-83b101d1a8b0"
      },
      "execution_count": null,
      "outputs": [
        {
          "output_type": "stream",
          "name": "stdout",
          "text": [
            "Digite sua matricula: 4564\n",
            "Digite sua senha:25656\n",
            "Sua matricula 4564 \n",
            "Seu nome: 25656\n"
          ]
        }
      ]
    },
    {
      "cell_type": "markdown",
      "source": [
        "# Utilização do FOR"
      ],
      "metadata": {
        "id": "pmXrGVt3qZlb"
      }
    },
    {
      "cell_type": "code",
      "source": [
        "# Escreve até o número 10\n",
        "for i in range(10):\n",
        "  print(i+1) \n",
        "# FOR é um repetidor \n",
        "# i é a variável \n",
        "# RANGE é a situação de parada"
      ],
      "metadata": {
        "id": "FiDzBnmNqvFy"
      },
      "execution_count": null,
      "outputs": []
    },
    {
      "cell_type": "code",
      "source": [
        "# Imprime os números impares\n",
        "for i in range(50):\n",
        "  print(i*2+1)"
      ],
      "metadata": {
        "id": "NEC_eF_Lrhty"
      },
      "execution_count": null,
      "outputs": []
    },
    {
      "cell_type": "code",
      "source": [
        "# Números pares\n",
        "for i in range(50):\n",
        "  print(i*2)"
      ],
      "metadata": {
        "id": "-NuNKWJEsogs"
      },
      "execution_count": null,
      "outputs": []
    },
    {
      "cell_type": "code",
      "source": [
        "# Tabuada do 8\n",
        "for i in range(10):\n",
        "  print(i*8)"
      ],
      "metadata": {
        "id": "f1PV5H3Pr4Ia"
      },
      "execution_count": null,
      "outputs": []
    },
    {
      "cell_type": "code",
      "source": [
        "# Tabuada de 0 a 9\n",
        "for i in range(10):\n",
        "  print(\"\\tTabuada de\",i)\n",
        "  if i==10:\n",
        "    print(\"\\n\")\n",
        "  for x in range(10):\n",
        "    print(x*i)"
      ],
      "metadata": {
        "id": "Vnlf2UIXtNas"
      },
      "execution_count": null,
      "outputs": []
    },
    {
      "cell_type": "code",
      "source": [
        "# Some de 1 a 10\n",
        "soma = 0\n",
        "for i in range(10):\n",
        "  print(\"A soma é:\",soma+i)"
      ],
      "metadata": {
        "id": "10mIedi-uXcL"
      },
      "execution_count": null,
      "outputs": []
    },
    {
      "cell_type": "markdown",
      "source": [
        "## Variável FOR no RANGE"
      ],
      "metadata": {
        "id": "VLHk-kO3HNfk"
      }
    },
    {
      "cell_type": "code",
      "source": [
        "# Inicializa a variavel com o 1º valor do range (1º)\n",
        "for i in range (5,10):\n",
        "  print(i)"
      ],
      "metadata": {
        "colab": {
          "base_uri": "https://localhost:8080/"
        },
        "id": "aJIA2NcZHMKs",
        "outputId": "6b2cee31-2ba9-46a7-c555-155f1151db99"
      },
      "execution_count": null,
      "outputs": [
        {
          "output_type": "stream",
          "name": "stdout",
          "text": [
            "5\n",
            "6\n",
            "7\n",
            "8\n",
            "9\n"
          ]
        }
      ]
    },
    {
      "cell_type": "code",
      "source": [
        "# RANGE (1º,2º,3º)\n",
        "# 1º = Valor \n",
        "# 2º = Fim\n",
        "# 3º = De quantos em quantos\n",
        "for i in range (0,100,2):\n",
        "  print(i)"
      ],
      "metadata": {
        "id": "eurkCieHHplW"
      },
      "execution_count": null,
      "outputs": []
    },
    {
      "cell_type": "markdown",
      "source": [
        "## RANGE regressivo"
      ],
      "metadata": {
        "id": "FRedXbdQJf4F"
      }
    },
    {
      "cell_type": "code",
      "source": [
        "# Basta alterar a ordem \n",
        "for i in range (40,0,-1):\n",
        "  print(i)"
      ],
      "metadata": {
        "id": "UV3gj4FLJmXt"
      },
      "execution_count": null,
      "outputs": []
    },
    {
      "cell_type": "markdown",
      "source": [
        "## RANGE + STRING"
      ],
      "metadata": {
        "id": "3zeZOcRmKT8Q"
      }
    },
    {
      "cell_type": "code",
      "source": [
        "# LEN usado dentro do RANGE\n",
        "texto = \"Noeylyy\"\n",
        "for i in range(0,len(texto)):\n",
        "  print(texto[i])"
      ],
      "metadata": {
        "id": "6Qy5G-eRKXNv"
      },
      "execution_count": null,
      "outputs": []
    },
    {
      "cell_type": "code",
      "source": [
        "# Letra e a Posição \n",
        "nome = input(\"Escreva seu nome: \")\n",
        "letra =input(\"Escreva sua letra: \")\n",
        "for i in range(0,len(nome)):\n",
        "  if letra == nome[i]:\n",
        "    print(\"Encontrei a letra %s na posição %i\" %(letra, i))"
      ],
      "metadata": {
        "id": "quIJlAe1LX7s"
      },
      "execution_count": null,
      "outputs": []
    },
    {
      "cell_type": "code",
      "source": [
        "# Tabuada com variavel no RANGE\n",
        "for x in range(1,11):\n",
        "  print(\"----------------------------------\")\n",
        "  for j in range(1,11):\n",
        "    print(x,\"x\", j, \"=\",x*j)"
      ],
      "metadata": {
        "id": "Jh_2rROxOQ2w",
        "colab": {
          "base_uri": "https://localhost:8080/"
        },
        "outputId": "8138d2cc-850c-4e3a-eef1-fc43fbe27044"
      },
      "execution_count": null,
      "outputs": [
        {
          "output_type": "stream",
          "name": "stdout",
          "text": [
            "----------------------------------\n",
            "1 x 1 = 1\n",
            "1 x 2 = 2\n",
            "1 x 3 = 3\n",
            "1 x 4 = 4\n",
            "1 x 5 = 5\n",
            "1 x 6 = 6\n",
            "1 x 7 = 7\n",
            "1 x 8 = 8\n",
            "1 x 9 = 9\n",
            "1 x 10 = 10\n",
            "----------------------------------\n",
            "2 x 1 = 2\n",
            "2 x 2 = 4\n",
            "2 x 3 = 6\n",
            "2 x 4 = 8\n",
            "2 x 5 = 10\n",
            "2 x 6 = 12\n",
            "2 x 7 = 14\n",
            "2 x 8 = 16\n",
            "2 x 9 = 18\n",
            "2 x 10 = 20\n",
            "----------------------------------\n",
            "3 x 1 = 3\n",
            "3 x 2 = 6\n",
            "3 x 3 = 9\n",
            "3 x 4 = 12\n",
            "3 x 5 = 15\n",
            "3 x 6 = 18\n",
            "3 x 7 = 21\n",
            "3 x 8 = 24\n",
            "3 x 9 = 27\n",
            "3 x 10 = 30\n",
            "----------------------------------\n",
            "4 x 1 = 4\n",
            "4 x 2 = 8\n",
            "4 x 3 = 12\n",
            "4 x 4 = 16\n",
            "4 x 5 = 20\n",
            "4 x 6 = 24\n",
            "4 x 7 = 28\n",
            "4 x 8 = 32\n",
            "4 x 9 = 36\n",
            "4 x 10 = 40\n",
            "----------------------------------\n",
            "5 x 1 = 5\n",
            "5 x 2 = 10\n",
            "5 x 3 = 15\n",
            "5 x 4 = 20\n",
            "5 x 5 = 25\n",
            "5 x 6 = 30\n",
            "5 x 7 = 35\n",
            "5 x 8 = 40\n",
            "5 x 9 = 45\n",
            "5 x 10 = 50\n",
            "----------------------------------\n",
            "6 x 1 = 6\n",
            "6 x 2 = 12\n",
            "6 x 3 = 18\n",
            "6 x 4 = 24\n",
            "6 x 5 = 30\n",
            "6 x 6 = 36\n",
            "6 x 7 = 42\n",
            "6 x 8 = 48\n",
            "6 x 9 = 54\n",
            "6 x 10 = 60\n",
            "----------------------------------\n",
            "7 x 1 = 7\n",
            "7 x 2 = 14\n",
            "7 x 3 = 21\n",
            "7 x 4 = 28\n",
            "7 x 5 = 35\n",
            "7 x 6 = 42\n",
            "7 x 7 = 49\n",
            "7 x 8 = 56\n",
            "7 x 9 = 63\n",
            "7 x 10 = 70\n",
            "----------------------------------\n",
            "8 x 1 = 8\n",
            "8 x 2 = 16\n",
            "8 x 3 = 24\n",
            "8 x 4 = 32\n",
            "8 x 5 = 40\n",
            "8 x 6 = 48\n",
            "8 x 7 = 56\n",
            "8 x 8 = 64\n",
            "8 x 9 = 72\n",
            "8 x 10 = 80\n",
            "----------------------------------\n",
            "9 x 1 = 9\n",
            "9 x 2 = 18\n",
            "9 x 3 = 27\n",
            "9 x 4 = 36\n",
            "9 x 5 = 45\n",
            "9 x 6 = 54\n",
            "9 x 7 = 63\n",
            "9 x 8 = 72\n",
            "9 x 9 = 81\n",
            "9 x 10 = 90\n",
            "----------------------------------\n",
            "10 x 1 = 10\n",
            "10 x 2 = 20\n",
            "10 x 3 = 30\n",
            "10 x 4 = 40\n",
            "10 x 5 = 50\n",
            "10 x 6 = 60\n",
            "10 x 7 = 70\n",
            "10 x 8 = 80\n",
            "10 x 9 = 90\n",
            "10 x 10 = 100\n"
          ]
        }
      ]
    },
    {
      "cell_type": "code",
      "source": [
        "# Tabuada FOR"
      ],
      "metadata": {
        "id": "gEe5RUnArhV5"
      },
      "execution_count": null,
      "outputs": []
    },
    {
      "cell_type": "markdown",
      "source": [
        "# Casting(Mudança de variáveis) e TYPE"
      ],
      "metadata": {
        "id": "TyhZZvUhzJrU"
      }
    },
    {
      "cell_type": "code",
      "source": [
        "# Casting é a mudança do tipo da variavel \n",
        "texto1 = \"1.4\"\n",
        "texto2 = \"6\"\n",
        "# É possivel mudar o tipo da variavel ao colocar uma outra variavel recebendo-à após colocar o tipo que voçê quiser\n",
        "numero1 = float(texto1)\n",
        "numero2 = int(texto2)\n",
        "print(type(texto1))\n",
        "# TYPE é utilizado para mostrar o tipo da variavel\n",
        "print(type(texto2))\n",
        "print(type(numero1))\n",
        "print(type(numero2))"
      ],
      "metadata": {
        "id": "2sOY6WnvxpR3"
      },
      "execution_count": null,
      "outputs": []
    },
    {
      "cell_type": "code",
      "source": [
        "# Função que calcula a porcentagem de um número\n",
        "nm = float(input(\"Digite um número: \"))\n",
        "por = float(input(\"A porcentagem: \"))\n",
        "rs = nm*(por/100)\n",
        "print(\"A porcentagem de\",nm,\"é: \",por)"
      ],
      "metadata": {
        "id": "3ImKj9JVv8MX"
      },
      "execution_count": null,
      "outputs": []
    },
    {
      "cell_type": "markdown",
      "source": [
        "## For com texto"
      ],
      "metadata": {
        "id": "MaV6JaIpPhak"
      }
    },
    {
      "cell_type": "code",
      "source": [
        "# For com texto\n",
        "texto = \" Ana Maria\"\n",
        "for x in texto: \n",
        "  print(x)"
      ],
      "metadata": {
        "colab": {
          "base_uri": "https://localhost:8080/"
        },
        "id": "0PA_oGy4PP28",
        "outputId": "8c642915-9bc6-40b5-e4c4-1f326148d3c6"
      },
      "execution_count": null,
      "outputs": [
        {
          "output_type": "stream",
          "name": "stdout",
          "text": [
            " \n",
            "A\n",
            "n\n",
            "a\n",
            " \n",
            "M\n",
            "a\n",
            "r\n",
            "i\n",
            "a\n"
          ]
        }
      ]
    },
    {
      "cell_type": "markdown",
      "source": [
        "# Inverter String e Teste Booleano"
      ],
      "metadata": {
        "id": "wzg1DS-Vp0sj"
      }
    },
    {
      "cell_type": "code",
      "source": [
        "# Invertendo String\n",
        "texto = \"AVON\"\n",
        "print(texto[::-1])"
      ],
      "metadata": {
        "id": "HLFc0qeP2RJQ"
      },
      "execution_count": null,
      "outputs": []
    },
    {
      "cell_type": "code",
      "source": [
        "# Teste com variavel booleana\n",
        "txt = \"Casa\"\n",
        "print( \"a\" in txt)\n",
        "print( \"asa\" not in txt)\n",
        "print( \"i\" not in txt)\n",
        "print( \"u\" in txt)\n",
        "print( \"o\" not in txt)"
      ],
      "metadata": {
        "id": "ejKnfh4t75oa"
      },
      "execution_count": null,
      "outputs": []
    },
    {
      "cell_type": "markdown",
      "source": [
        "## Exemplo de IN no If e Else"
      ],
      "metadata": {
        "id": "sMb6yLxatNTN"
      }
    },
    {
      "cell_type": "code",
      "source": [
        "# Verificar email\n",
        "email = input(\"Digite seu email: \")\n",
        "if \"@\" in email: \n",
        "  print(\"Email correto!\")\n",
        "else:\n",
        "  print(\"Email incorreto!\")"
      ],
      "metadata": {
        "colab": {
          "base_uri": "https://localhost:8080/"
        },
        "id": "ergVBNdjshS1",
        "outputId": "fd198485-fe0b-4d65-f7ab-a719d2f9044e"
      },
      "execution_count": null,
      "outputs": [
        {
          "output_type": "stream",
          "name": "stdout",
          "text": [
            "Digite seu email: jaiozinho.com\n",
            "Email incorreto!\n"
          ]
        }
      ]
    },
    {
      "cell_type": "markdown",
      "source": [
        "# Imutabilidade de String"
      ],
      "metadata": {
        "id": "keVZ6oJEh3su"
      }
    },
    {
      "cell_type": "code",
      "source": [
        "# A variavel string em python é imutável\n",
        "frase = \"Feijãozino 123\"\n",
        "print(frase.replace(\"3\",\"4\"))"
      ],
      "metadata": {
        "id": "k4vBHpXReA4r"
      },
      "execution_count": null,
      "outputs": []
    },
    {
      "cell_type": "markdown",
      "source": [
        "## Através da Contatenação"
      ],
      "metadata": {
        "id": "DdM69WKPlO41"
      }
    },
    {
      "cell_type": "code",
      "source": [
        "# Também é possivel alterar através da contatenação\n",
        "frase2 = \"Estudo python 3\"\n",
        "print(frase2[:14] + \"2\")"
      ],
      "metadata": {
        "id": "FMqEcy7plNgt"
      },
      "execution_count": null,
      "outputs": []
    },
    {
      "cell_type": "markdown",
      "source": [
        "## LEN "
      ],
      "metadata": {
        "id": "c14lig6Uk4ak"
      }
    },
    {
      "cell_type": "code",
      "source": [
        "# LEN conta a quantidade de indices na variavel\n",
        "# Também conta os espaços     \n",
        "print(len(frase2))"
      ],
      "metadata": {
        "colab": {
          "base_uri": "https://localhost:8080/"
        },
        "id": "z6YvwGzXjZzK",
        "outputId": "2713b8e7-41a2-49f2-f052-3f614aec5e23"
      },
      "execution_count": null,
      "outputs": [
        {
          "output_type": "stream",
          "name": "stdout",
          "text": [
            "15\n"
          ]
        }
      ]
    },
    {
      "cell_type": "markdown",
      "source": [
        "# Capitalize"
      ],
      "metadata": {
        "id": "VaL4o3YUletG"
      }
    },
    {
      "cell_type": "code",
      "source": [
        "# Transforma o primeiro indice em maiúsculo\n",
        "txt = \"exemplo\"\n",
        "txt1 = txt.capitalize()\n",
        "print(txt1)"
      ],
      "metadata": {
        "colab": {
          "base_uri": "https://localhost:8080/"
        },
        "id": "NK7IkNT8juOW",
        "outputId": "5b686021-fab9-4f68-e937-7b3f78d5e835"
      },
      "execution_count": null,
      "outputs": [
        {
          "output_type": "stream",
          "name": "stdout",
          "text": [
            "Exemplo\n"
          ]
        }
      ]
    },
    {
      "cell_type": "markdown",
      "source": [
        "# Startswith e Endswith"
      ],
      "metadata": {
        "id": "pBRfYNOapFG5"
      }
    },
    {
      "cell_type": "code",
      "source": [
        "# Verifica se () é a primeira da cadeia \n",
        "txt = \"estudo de python 3\"\n",
        "txt2 = txt.startswith(\"p\")\n",
        "print(txt2)"
      ],
      "metadata": {
        "id": "DIbMCljWmVKs"
      },
      "execution_count": null,
      "outputs": []
    },
    {
      "cell_type": "code",
      "source": [
        "# Verifica se () é o ultimo indice da cadeia  \n",
        "txt = \"estudo de python 3\"\n",
        "txt2 = txt.endswith(\"3\")\n",
        "print(txt2)"
      ],
      "metadata": {
        "id": "qbVmVjX3nZ2Y"
      },
      "execution_count": null,
      "outputs": []
    },
    {
      "cell_type": "markdown",
      "source": [
        "# Split"
      ],
      "metadata": {
        "id": "Szng6eh7pQ5m"
      }
    },
    {
      "cell_type": "code",
      "source": [
        "# SPLIT separa a string em array(vetor) do tipo lista \n",
        "txt = \"estudo de python 3\"\n",
        "txt2 = txt.split()\n",
        "print(txt2)\n",
        "print(type(txt2))"
      ],
      "metadata": {
        "id": "U_mAdqU3njw2"
      },
      "execution_count": null,
      "outputs": []
    },
    {
      "cell_type": "code",
      "source": [
        "# Separando String \n",
        "nmcompleto = input(\"Escreva seu nome completo: \")\n",
        "nm = nmcompleto.split()\n",
        "l = len(nm[0])\n",
        "j = len(nm[1])\n",
        "print(\"Nome: \" + nmcompleto[:l])\n",
        "print(\"Sobrenome: \" + nmcompleto[l:0:j])"
      ],
      "metadata": {
        "colab": {
          "base_uri": "https://localhost:8080/"
        },
        "id": "hRMjWtbHx_La",
        "outputId": "50a9e45c-8449-41b2-f269-35b77f5aa497"
      },
      "execution_count": null,
      "outputs": [
        {
          "output_type": "stream",
          "name": "stdout",
          "text": [
            "Escreva seu nome completo: jhoao pedro\n",
            "Nome: jhoao\n",
            "Sobrenome: \n"
          ]
        }
      ]
    },
    {
      "cell_type": "markdown",
      "source": [
        "# OBS: IMPUT"
      ],
      "metadata": {
        "id": "tN3MPqpt_dvt"
      }
    },
    {
      "cell_type": "code",
      "source": [
        "# IMPUT sempre será string, portanto declare a variavel antes do IMPUT\n",
        "nm = int(input(\"Escreva um número: \"))\n",
        "if nm == 10: \n",
        "  print(\"Seu número é :\", nm)"
      ],
      "metadata": {
        "colab": {
          "base_uri": "https://localhost:8080/"
        },
        "id": "J6yrJo1h8CVX",
        "outputId": "6afddd9d-5788-4c86-bb4f-cede9f55ff03"
      },
      "execution_count": null,
      "outputs": [
        {
          "output_type": "stream",
          "name": "stdout",
          "text": [
            "Escreva um número: 10\n",
            "Seu número é : 10\n"
          ]
        }
      ]
    },
    {
      "cell_type": "markdown",
      "source": [
        "# LOWER"
      ],
      "metadata": {
        "id": "tvCa1lGu-COX"
      }
    },
    {
      "cell_type": "code",
      "source": [
        "nm = input(\"Digite seu nome: \")\n",
        "nm = nm.lower()\n",
        "for i in range(len(nm)):\n",
        "  if nm[i] in \"a\":\n",
        "      print(\"O nome\", nm,\"tem vogal\", nm[i])\n",
        "  if nm[i] in \"e\":\n",
        "      print(\"O nome\", nm, \"tem vogal\", nm[i])\n",
        "  if nm[i] in \"i\":\n",
        "      print(\"O nome\", nm, \"tem vogal\", nm[i])\n",
        "  if nm[i] in \"o\":\n",
        "      print(\"O nome\", nm,\"tem vogal\", nm[i])\n",
        "  if nm[i] in \"u\":\n",
        "      print(\"O nome\", nm, \"tem vogal\", nm[i])\n",
        "  else: \n",
        "      print(\"Esse nome não tem vogal!\")"
      ],
      "metadata": {
        "colab": {
          "base_uri": "https://localhost:8080/"
        },
        "id": "wj4_10Zt95gH",
        "outputId": "7c5b5803-6c02-44b8-823a-2bf3a8020625"
      },
      "execution_count": null,
      "outputs": [
        {
          "output_type": "stream",
          "name": "stdout",
          "text": [
            "Digite seu nome: kdsfg\n",
            "Esse nome não tem vogal!\n",
            "Esse nome não tem vogal!\n",
            "Esse nome não tem vogal!\n",
            "Esse nome não tem vogal!\n",
            "Esse nome não tem vogal!\n"
          ]
        }
      ]
    },
    {
      "cell_type": "markdown",
      "source": [
        "# Laço While e Break e Continue"
      ],
      "metadata": {
        "id": "O1QmCj7uBIsk"
      }
    },
    {
      "cell_type": "code",
      "source": [
        "# While é um comando de repetição \n",
        "a = 0\n",
        "while True:\n",
        "  if a ==10:\n",
        "# Break é pare BURRO!\n",
        "    break\n",
        "  print(a)\n",
        "  a+=1\n",
        "print(\"Acabou!\")"
      ],
      "metadata": {
        "id": "b1lGsm4yBHj3"
      },
      "execution_count": null,
      "outputs": []
    },
    {
      "cell_type": "code",
      "source": [
        "# Comando com CONTINUE pulando um valor\n",
        "a =0\n",
        "while a<10:\n",
        "  a+=1\n",
        "  if a == 3:\n",
        "    continue\n",
        "  print(a)\n",
        "print(\"E acabou!\")"
      ],
      "metadata": {
        "id": "EttewyfOE5ey"
      },
      "execution_count": null,
      "outputs": []
    },
    {
      "cell_type": "markdown",
      "source": [
        "# ARRAY tipo lista em python"
      ],
      "metadata": {
        "id": "YsAGdTvBsrfL"
      }
    },
    {
      "cell_type": "code",
      "source": [
        "lista = []\n",
        "lista1 = [1,5,6,4]\n",
        "# LIST é um metodo do python\n",
        "# É mais interessasnte utilizar LIST\n",
        "lista2 = list([2,6,8,4,8])\n",
        "print(lista)                                                                                                                                                                                                                                                                                                                                                                                                                                                                                                                                                                                                                                                                                                                                                                                                                                                                                                                                                                                                                                                                                                                                                                                                                               \n",
        "print(lista1)\n",
        "print(lista2)"
      ],
      "metadata": {
        "colab": {
          "base_uri": "https://localhost:8080/"
        },
        "id": "qE9kjHlgtJoZ",
        "outputId": "359b3c5e-7810-404a-975e-e80cb5d57b1d"
      },
      "execution_count": null,
      "outputs": [
        {
          "output_type": "stream",
          "name": "stdout",
          "text": [
            "[]\n",
            "[1, 5, 6, 4]\n",
            "[2, 6, 8, 4, 8]\n"
          ]
        }
      ]
    },
    {
      "cell_type": "code",
      "source": [
        "# No python é possivel uma lista com diferentes tipos de variaveis\n",
        "ls = [5,\"Teste 123\"]\n",
        "print(ls)"
      ],
      "metadata": {
        "colab": {
          "base_uri": "https://localhost:8080/"
        },
        "id": "pU8_fOdzt9uS",
        "outputId": "01d165b7-f410-4682-8f73-64ce13f5387e"
      },
      "execution_count": null,
      "outputs": [
        {
          "output_type": "stream",
          "name": "stdout",
          "text": [
            "[5, 'Teste 123']\n"
          ]
        }
      ]
    },
    {
      "cell_type": "code",
      "source": [
        "# Escrevendo arrays \n",
        "lst = list([5,6,8,\"Tu\",5,\"Prova\"])\n",
        "print(lst[0:3]) # Imprime a quantidade que vc quiser\n",
        "print(lst[-1]) # Imprime o ultimo\n",
        "print(lst[0]) # Imprime o primeiro \n",
        "print(lst) # Imprime toda a lista"
      ],
      "metadata": {
        "colab": {
          "base_uri": "https://localhost:8080/"
        },
        "id": "YEhRbfstvUU5",
        "outputId": "899998d5-92d4-47fd-c65e-87f5959636c6"
      },
      "execution_count": null,
      "outputs": [
        {
          "output_type": "stream",
          "name": "stdout",
          "text": [
            "[5, 6, 8]\n",
            "Prova\n",
            "5\n",
            "[5, 6, 8, 'Tu', 5, 'Prova']\n"
          ]
        }
      ]
    },
    {
      "cell_type": "markdown",
      "source": [
        "## APPEND e INSERT"
      ],
      "metadata": {
        "id": "HU0wmYQBxFJY"
      }
    },
    {
      "cell_type": "code",
      "source": [
        "# Insere um valor ao final da lista\n",
        "ls = list([5.89,65,\"Lista\"])\n",
        "print(ls)\n",
        "ls.append(56)\n",
        "print(ls)\n",
        "# Também é possivel alterar um determinado valor da lista apenas colocando a igualdade e o indice da lista\n",
        "ls[2] = 5896\n",
        "print(ls)"
      ],
      "metadata": {
        "colab": {
          "base_uri": "https://localhost:8080/"
        },
        "id": "I7aL_wlGw6v2",
        "outputId": "e4d613de-6a66-4075-f4c0-e60e82007600"
      },
      "execution_count": null,
      "outputs": [
        {
          "output_type": "stream",
          "name": "stdout",
          "text": [
            "[5.89, 65, 'Lista']\n",
            "[5.89, 65, 'Lista', 56]\n",
            "[5.89, 65, 5896, 56]\n"
          ]
        }
      ]
    },
    {
      "cell_type": "code",
      "source": [
        "# INSERT insere um valor apartir do valor dado sem apagar o valor anterior\n",
        "ls = list([5.89,65,\"Lista\"])\n",
        "ls.insert(2,25659)\n",
        "print(ls)"
      ],
      "metadata": {
        "colab": {
          "base_uri": "https://localhost:8080/"
        },
        "id": "iBEVwRe7yv9J",
        "outputId": "dfc20b97-6861-4f58-efbf-f1582e0245b0"
      },
      "execution_count": null,
      "outputs": [
        {
          "output_type": "stream",
          "name": "stdout",
          "text": [
            "[5.89, 65, 25659, 'Lista']\n"
          ]
        }
      ]
    },
    {
      "cell_type": "markdown",
      "source": [
        "## REMOVE e POP e CLEAR"
      ],
      "metadata": {
        "id": "AYluZQYH1g_n"
      }
    },
    {
      "cell_type": "code",
      "source": [
        "# REMOVE remove de acordo com o valor pedido \n",
        "ls = list([5.89,65,\"Lista\"])\n",
        "ls.remove(5.89)\n",
        "print(ls)"
      ],
      "metadata": {
        "colab": {
          "base_uri": "https://localhost:8080/"
        },
        "id": "ZGodaIEZ1i9n",
        "outputId": "c553a174-1296-4f14-e07a-f55bd5a2b262"
      },
      "execution_count": null,
      "outputs": [
        {
          "output_type": "stream",
          "name": "stdout",
          "text": [
            "[65, 'Lista']\n"
          ]
        }
      ]
    },
    {
      "cell_type": "code",
      "source": [
        "# POP remove o valor do indice pedido \n",
        "ls = list([5.89,65,\"Lista\"])\n",
        "ls.pop(1)\n",
        "print(ls)\n",
        "# CLEAR apaga todo a lista \n",
        "ls.clear()\n",
        "print(ls)"
      ],
      "metadata": {
        "colab": {
          "base_uri": "https://localhost:8080/"
        },
        "id": "jP8-WjDJ1w5L",
        "outputId": "6128e6a7-590a-4962-f91d-e6626c99dbe4"
      },
      "execution_count": null,
      "outputs": [
        {
          "output_type": "stream",
          "name": "stdout",
          "text": [
            "[5.89, 'Lista']\n",
            "[]\n"
          ]
        }
      ]
    },
    {
      "cell_type": "markdown",
      "source": [
        "OBS: BUG"
      ],
      "metadata": {
        "id": "n2u4NyUn58C1"
      }
    },
    {
      "cell_type": "code",
      "source": [
        "vetor = [56,93,5]\n",
        "print( 5 in vetor)"
      ],
      "metadata": {
        "colab": {
          "base_uri": "https://localhost:8080/"
        },
        "id": "9v4YE3av4LF7",
        "outputId": "3b025e02-f2b1-4d5e-b068-11209a8b0840"
      },
      "execution_count": null,
      "outputs": [
        {
          "output_type": "stream",
          "name": "stdout",
          "text": [
            "True\n"
          ]
        }
      ]
    },
    {
      "cell_type": "markdown",
      "source": [
        "## CONTATENAR E SOMAR"
      ],
      "metadata": {
        "id": "NBuvk78y6IGr"
      }
    },
    {
      "cell_type": "code",
      "source": [
        "# Contatenar vetor\n",
        "vetor = [56,93,5]\n",
        "vetor1 = [\"TáEmShOcK\",6,89,\"Flamengo\"]\n",
        "print(vetor+vetor1)"
      ],
      "metadata": {
        "colab": {
          "base_uri": "https://localhost:8080/"
        },
        "id": "o-EMOAfG5hms",
        "outputId": "8de9e182-95b3-4730-f37d-bb8bec572a87"
      },
      "execution_count": null,
      "outputs": [
        {
          "output_type": "stream",
          "name": "stdout",
          "text": [
            "[56, 93, 5, 'TáEmShOcK', 6, 89, 'Flamengo']\n"
          ]
        }
      ]
    },
    {
      "cell_type": "code",
      "source": [
        "# Duplicar vetor\n",
        "print((vetor1)*2)"
      ],
      "metadata": {
        "colab": {
          "base_uri": "https://localhost:8080/"
        },
        "id": "1ZOm8v-L6cBa",
        "outputId": "36991815-38a2-4e8e-b427-df1063481f3e"
      },
      "execution_count": null,
      "outputs": [
        {
          "output_type": "stream",
          "name": "stdout",
          "text": [
            "['TáEmShOcK', 6, 89, 'Flamengo', 'TáEmShOcK', 6, 89, 'Flamengo']\n"
          ]
        }
      ]
    },
    {
      "cell_type": "code",
      "source": [
        "# Separar indices para variaveis\n",
        "vetor = [56,93,5, \"TESTE\"]\n",
        "a,b,c,d = vetor\n",
        "print(a)\n",
        "print(b)\n",
        "print(c)\n",
        "print(d)\n"
      ],
      "metadata": {
        "colab": {
          "base_uri": "https://localhost:8080/"
        },
        "id": "p2XUVuzT7I1a",
        "outputId": "ea9dffc4-68ea-405b-be36-b55ad19dbe5b"
      },
      "execution_count": null,
      "outputs": [
        {
          "output_type": "stream",
          "name": "stdout",
          "text": [
            "56\n",
            "93\n",
            "5\n",
            "TESTE\n"
          ]
        }
      ]
    },
    {
      "cell_type": "code",
      "source": [
        "# Separando em variaveis menores que os elementos da lista\n",
        "vetor = [56,93,5, \"TESTE\", \"NÂOSEI\"]\n",
        "a,b,c,_,_ = vetor\n",
        "print(a)\n",
        "print(b)\n",
        "print(c)\n",
        "z,x,y = vetor[0:3]\n",
        "print(z)\n",
        "print(x)\n",
        "print(y)"
      ],
      "metadata": {
        "id": "EaafektB8_I1"
      },
      "execution_count": null,
      "outputs": []
    }
  ]
}